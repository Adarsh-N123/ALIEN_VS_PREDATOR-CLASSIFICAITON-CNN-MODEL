{
  "nbformat": 4,
  "nbformat_minor": 0,
  "metadata": {
    "colab": {
      "provenance": [],
      "collapsed_sections": [],
      "authorship_tag": "ABX9TyO+8Papzf7jBJbAzyDmrs4r",
      "include_colab_link": true
    },
    "kernelspec": {
      "name": "python3",
      "display_name": "Python 3"
    },
    "language_info": {
      "name": "python"
    },
    "accelerator": "GPU",
    "gpuClass": "standard"
  },
  "cells": [
    {
      "cell_type": "markdown",
      "metadata": {
        "id": "view-in-github",
        "colab_type": "text"
      },
      "source": [
        "<a href=\"https://colab.research.google.com/github/Adarsh-N123/ALIEN_VS_PREDATOR-CLASSIFICAITON-CNN-MODEL/blob/main/alien_vs_predator_cnn.ipynb\" target=\"_parent\"><img src=\"https://colab.research.google.com/assets/colab-badge.svg\" alt=\"Open In Colab\"/></a>"
      ]
    },
    {
      "cell_type": "code",
      "execution_count": 334,
      "metadata": {
        "id": "DjFQZzgI3Ywf"
      },
      "outputs": [],
      "source": [
        "import tensorflow as tf\n",
        "from tensorflow import keras"
      ]
    },
    {
      "cell_type": "code",
      "source": [
        "import os\n",
        "os.environ['KAGGLE_USERNAME'] = \"nidamanurisaiadarsh\"\n",
        "os.environ['KAGGLE_KEY'] = \"a7fd56d94ecbcd86bf02b5c7a8b02baf\""
      ],
      "metadata": {
        "id": "Zv95s94Q35Bd"
      },
      "execution_count": 335,
      "outputs": []
    },
    {
      "cell_type": "code",
      "source": [
        "# !kaggle datasets download pmigdal/alien-vs-predator-images"
      ],
      "metadata": {
        "id": "8WPhgoBj39fJ"
      },
      "execution_count": 336,
      "outputs": []
    },
    {
      "cell_type": "code",
      "source": [
        "# !unzip alien-vs-predator-images.zip"
      ],
      "metadata": {
        "id": "DxLOd3k34AO-"
      },
      "execution_count": 337,
      "outputs": []
    },
    {
      "cell_type": "code",
      "source": [
        "import numpy as np\n",
        "import pandas as pd\n",
        "import matplotlib.pyplot as plt\n",
        "import seaborn as sns\n",
        "import cv2\n",
        "\n"
      ],
      "metadata": {
        "id": "hO8MP40_4ITl"
      },
      "execution_count": 338,
      "outputs": []
    },
    {
      "cell_type": "code",
      "source": [
        "class_names = [\"alien\",\"predator\"]\n",
        "class_names_label = {class_name:i for i,class_name in enumerate(class_names)}\n",
        "nb_classes = len(class_names)\n",
        "print(class_names_label)\n",
        "\n",
        "IMAGE_SIZE=(64,64)"
      ],
      "metadata": {
        "colab": {
          "base_uri": "https://localhost:8080/"
        },
        "id": "N4HOzoHt5uPa",
        "outputId": "e60921ce-8858-4945-d4a2-40577465abf5"
      },
      "execution_count": 339,
      "outputs": [
        {
          "output_type": "stream",
          "name": "stdout",
          "text": [
            "{'alien': 0, 'predator': 1}\n"
          ]
        }
      ]
    },
    {
      "cell_type": "code",
      "source": [
        "\n",
        "def load_data():\n",
        "  directory = \"./data\"\n",
        "  category=[\"train\",\"validation\"]\n",
        "  output=[]\n",
        "\n",
        "  for cg in category:\n",
        "    path = os.path.join(directory,cg)\n",
        "    print(path)\n",
        "    images = []\n",
        "    labels = []\n",
        "    print(\"Loading {}\".format(cg))\n",
        "\n",
        "    for folder in os.listdir(path):\n",
        "      label = class_names_label[folder]\n",
        "      for file in os.listdir(os.path.join(path,folder)):\n",
        "        img_path = os.path.join(os.path.join(path,folder),file)\n",
        "        image = cv2.imread(img_path)\n",
        "        image = cv2.cvtColor(image,cv2.COLOR_BGR2RGB)\n",
        "        image = cv2.resize(image,IMAGE_SIZE)\n",
        "\n",
        "        images.append(image)\n",
        "        labels.append(label)\n",
        "    images = np.array(images,dtype='float32')\n",
        "    labels = np.array(labels,dtype='int32')\n",
        "\n",
        "    output.append((images,labels))\n",
        "  return output \n"
      ],
      "metadata": {
        "id": "rXCs2MrU4pcl"
      },
      "execution_count": 340,
      "outputs": []
    },
    {
      "cell_type": "code",
      "source": [
        "(train_img,train_labels),(test_img,test_labels) = load_data()"
      ],
      "metadata": {
        "colab": {
          "base_uri": "https://localhost:8080/"
        },
        "id": "1SMFF7lo8mT5",
        "outputId": "258c8642-8456-4d12-e059-ce62ceb07150"
      },
      "execution_count": 341,
      "outputs": [
        {
          "output_type": "stream",
          "name": "stdout",
          "text": [
            "./data/train\n",
            "Loading train\n",
            "./data/validation\n",
            "Loading validation\n"
          ]
        }
      ]
    },
    {
      "cell_type": "code",
      "source": [
        "# train_img[0].shape\n",
        "train_img = train_img/255\n",
        "test_img = test_img/255"
      ],
      "metadata": {
        "id": "5FLJf0nK9Ijh"
      },
      "execution_count": 342,
      "outputs": []
    },
    {
      "cell_type": "code",
      "source": [
        "data_aug = keras.models.Sequential([\n",
        "    keras.layers.experimental.preprocessing.RandomFlip(\"horizontal\",input_shape=(64,64,3)),\n",
        "    keras.layers.experimental.preprocessing.RandomRotation(0.1),\n",
        "    # keras.layers.experimental.preprocessing.RandomZoom(0.1),\n",
        "    # keras.layers.experimental.preprocessing.RandomContrast(0.1),\n",
        "\n",
        "    # keras.layers.Conv2D(filters=32,kernel_size=(2,2),activation=\"relu\",input_shape=(64,64,3)),\n",
        "    # keras.layers.MaxPooling2D((2,2)),\n",
        "\n",
        "    # keras.layers.Conv2D(filters=64,kernel_size=(2,2),activation=\"relu\"),\n",
        "    # keras.layers.MaxPooling2D((2,2)),\n",
        "\n",
        "    # keras.layers.Conv2D(filters=128,kernel_size=(2,2),activation=\"relu\"),\n",
        "    # keras.layers.MaxPooling2D((2,2)),\n",
        "\n",
        "    \n",
        "\n",
        "    # keras.layers.Flatten(),\n",
        "    # keras.layers.Dense(64,activation=\"relu\"),\n",
        "    # keras.layers.Dense(2,activation=\"sigmoid\")\n",
        "    \n",
        "])\n",
        "\n",
        "cnn = keras.Sequential([\n",
        "    data_aug,\n",
        "    keras.layers.Conv2D(filters=64,kernel_size=(2,2),padding='same',activation=\"relu\"),\n",
        "    keras.layers.MaxPooling2D((2,2)),\n",
        "\n",
        "    keras.layers.Conv2D(filters=128,kernel_size=(2,2),padding='same',activation=\"relu\"),\n",
        "    keras.layers.MaxPooling2D((2,2)),\n",
        "\n",
        "    keras.layers.Conv2D(filters=256,kernel_size=(2,2),padding='same',activation=\"relu\"),\n",
        "    keras.layers.MaxPooling2D((2,2)),\n",
        "\n",
        "    \n",
        "\n",
        "    keras.layers.Flatten(),\n",
        "    keras.layers.Dense(64,activation=\"relu\"),\n",
        "    keras.layers.Dense(2,activation=\"sigmoid\")\n",
        "\n",
        "])\n",
        "cnn.compile(optimizer='adam',\n",
        "              loss=\"sparse_categorical_crossentropy\",\n",
        "              metrics=[\"accuracy\"])\n",
        "\n",
        "cnn.fit(train_img,train_labels,epochs=20)"
      ],
      "metadata": {
        "colab": {
          "base_uri": "https://localhost:8080/"
        },
        "id": "MvIgztY-9UYF",
        "outputId": "825cf257-2f33-4b56-a93c-6ae0ede33511"
      },
      "execution_count": 343,
      "outputs": [
        {
          "output_type": "stream",
          "name": "stdout",
          "text": [
            "Epoch 1/20\n",
            "22/22 [==============================] - 1s 30ms/step - loss: 0.7090 - accuracy: 0.5159\n",
            "Epoch 2/20\n",
            "22/22 [==============================] - 1s 28ms/step - loss: 0.6651 - accuracy: 0.5994\n",
            "Epoch 3/20\n",
            "22/22 [==============================] - 1s 30ms/step - loss: 0.6044 - accuracy: 0.6729\n",
            "Epoch 4/20\n",
            "22/22 [==============================] - 1s 28ms/step - loss: 0.6083 - accuracy: 0.6326\n",
            "Epoch 5/20\n",
            "22/22 [==============================] - 1s 27ms/step - loss: 0.5581 - accuracy: 0.7075\n",
            "Epoch 6/20\n",
            "22/22 [==============================] - 1s 28ms/step - loss: 0.5446 - accuracy: 0.7464\n",
            "Epoch 7/20\n",
            "22/22 [==============================] - 1s 27ms/step - loss: 0.5136 - accuracy: 0.7493\n",
            "Epoch 8/20\n",
            "22/22 [==============================] - 1s 28ms/step - loss: 0.5386 - accuracy: 0.7392\n",
            "Epoch 9/20\n",
            "22/22 [==============================] - 1s 28ms/step - loss: 0.4905 - accuracy: 0.7565\n",
            "Epoch 10/20\n",
            "22/22 [==============================] - 1s 27ms/step - loss: 0.4674 - accuracy: 0.7709\n",
            "Epoch 11/20\n",
            "22/22 [==============================] - 1s 28ms/step - loss: 0.4642 - accuracy: 0.7767\n",
            "Epoch 12/20\n",
            "22/22 [==============================] - 1s 27ms/step - loss: 0.4574 - accuracy: 0.7752\n",
            "Epoch 13/20\n",
            "22/22 [==============================] - 1s 28ms/step - loss: 0.4530 - accuracy: 0.7853\n",
            "Epoch 14/20\n",
            "22/22 [==============================] - 1s 27ms/step - loss: 0.4329 - accuracy: 0.8012\n",
            "Epoch 15/20\n",
            "22/22 [==============================] - 1s 27ms/step - loss: 0.4617 - accuracy: 0.7925\n",
            "Epoch 16/20\n",
            "22/22 [==============================] - 1s 28ms/step - loss: 0.4212 - accuracy: 0.8141\n",
            "Epoch 17/20\n",
            "22/22 [==============================] - 1s 27ms/step - loss: 0.4101 - accuracy: 0.8012\n",
            "Epoch 18/20\n",
            "22/22 [==============================] - 1s 27ms/step - loss: 0.4218 - accuracy: 0.8069\n",
            "Epoch 19/20\n",
            "22/22 [==============================] - 1s 28ms/step - loss: 0.3992 - accuracy: 0.8084\n",
            "Epoch 20/20\n",
            "22/22 [==============================] - 1s 29ms/step - loss: 0.3774 - accuracy: 0.8256\n"
          ]
        },
        {
          "output_type": "execute_result",
          "data": {
            "text/plain": [
              "<keras.callbacks.History at 0x7f8472bb4ed0>"
            ]
          },
          "metadata": {},
          "execution_count": 343
        }
      ]
    },
    {
      "cell_type": "code",
      "source": [
        "cnn.evaluate(test_img,test_labels)"
      ],
      "metadata": {
        "colab": {
          "base_uri": "https://localhost:8080/"
        },
        "id": "pYo4vcJVCx5A",
        "outputId": "04e49bc5-323b-4a72-f7a3-155643674f86"
      },
      "execution_count": 344,
      "outputs": [
        {
          "output_type": "stream",
          "name": "stdout",
          "text": [
            "7/7 [==============================] - 0s 7ms/step - loss: 0.4195 - accuracy: 0.8000\n"
          ]
        },
        {
          "output_type": "execute_result",
          "data": {
            "text/plain": [
              "[0.41950759291648865, 0.800000011920929]"
            ]
          },
          "metadata": {},
          "execution_count": 344
        }
      ]
    },
    {
      "cell_type": "code",
      "source": [
        "L=[]\n",
        "for i in cnn.predict(test_img):\n",
        "  index = np.argmax(i)\n",
        "  L.append(class_names[index])\n"
      ],
      "metadata": {
        "colab": {
          "base_uri": "https://localhost:8080/"
        },
        "id": "U1LSCJiaKvrt",
        "outputId": "4f0b2b77-429b-49fc-bc7e-334ca41b1da8"
      },
      "execution_count": 352,
      "outputs": [
        {
          "output_type": "stream",
          "name": "stdout",
          "text": [
            "7/7 [==============================] - 0s 6ms/step\n"
          ]
        }
      ]
    },
    {
      "cell_type": "code",
      "source": [
        "L"
      ],
      "metadata": {
        "colab": {
          "base_uri": "https://localhost:8080/"
        },
        "id": "4cTvZp8xQLFC",
        "outputId": "a8621823-407c-44f4-fb58-820b1a468c46"
      },
      "execution_count": 353,
      "outputs": [
        {
          "output_type": "execute_result",
          "data": {
            "text/plain": [
              "['alien',\n",
              " 'alien',\n",
              " 'alien',\n",
              " 'predator',\n",
              " 'alien',\n",
              " 'alien',\n",
              " 'alien',\n",
              " 'alien',\n",
              " 'alien',\n",
              " 'alien',\n",
              " 'alien',\n",
              " 'alien',\n",
              " 'alien',\n",
              " 'predator',\n",
              " 'alien',\n",
              " 'predator',\n",
              " 'alien',\n",
              " 'alien',\n",
              " 'alien',\n",
              " 'alien',\n",
              " 'predator',\n",
              " 'alien',\n",
              " 'alien',\n",
              " 'alien',\n",
              " 'predator',\n",
              " 'alien',\n",
              " 'alien',\n",
              " 'predator',\n",
              " 'predator',\n",
              " 'alien',\n",
              " 'alien',\n",
              " 'alien',\n",
              " 'alien',\n",
              " 'alien',\n",
              " 'alien',\n",
              " 'alien',\n",
              " 'predator',\n",
              " 'alien',\n",
              " 'alien',\n",
              " 'predator',\n",
              " 'alien',\n",
              " 'alien',\n",
              " 'alien',\n",
              " 'alien',\n",
              " 'alien',\n",
              " 'alien',\n",
              " 'alien',\n",
              " 'predator',\n",
              " 'predator',\n",
              " 'alien',\n",
              " 'alien',\n",
              " 'predator',\n",
              " 'alien',\n",
              " 'alien',\n",
              " 'alien',\n",
              " 'alien',\n",
              " 'predator',\n",
              " 'alien',\n",
              " 'alien',\n",
              " 'alien',\n",
              " 'alien',\n",
              " 'alien',\n",
              " 'alien',\n",
              " 'predator',\n",
              " 'alien',\n",
              " 'predator',\n",
              " 'alien',\n",
              " 'alien',\n",
              " 'alien',\n",
              " 'alien',\n",
              " 'alien',\n",
              " 'alien',\n",
              " 'alien',\n",
              " 'alien',\n",
              " 'predator',\n",
              " 'alien',\n",
              " 'alien',\n",
              " 'alien',\n",
              " 'alien',\n",
              " 'alien',\n",
              " 'predator',\n",
              " 'alien',\n",
              " 'alien',\n",
              " 'alien',\n",
              " 'alien',\n",
              " 'predator',\n",
              " 'alien',\n",
              " 'alien',\n",
              " 'alien',\n",
              " 'alien',\n",
              " 'alien',\n",
              " 'predator',\n",
              " 'predator',\n",
              " 'alien',\n",
              " 'alien',\n",
              " 'alien',\n",
              " 'alien',\n",
              " 'alien',\n",
              " 'predator',\n",
              " 'alien',\n",
              " 'predator',\n",
              " 'predator',\n",
              " 'predator',\n",
              " 'predator',\n",
              " 'alien',\n",
              " 'alien',\n",
              " 'predator',\n",
              " 'predator',\n",
              " 'predator',\n",
              " 'predator',\n",
              " 'predator',\n",
              " 'predator',\n",
              " 'predator',\n",
              " 'predator',\n",
              " 'predator',\n",
              " 'predator',\n",
              " 'predator',\n",
              " 'predator',\n",
              " 'predator',\n",
              " 'predator',\n",
              " 'predator',\n",
              " 'predator',\n",
              " 'predator',\n",
              " 'predator',\n",
              " 'predator',\n",
              " 'alien',\n",
              " 'predator',\n",
              " 'predator',\n",
              " 'predator',\n",
              " 'predator',\n",
              " 'predator',\n",
              " 'predator',\n",
              " 'alien',\n",
              " 'alien',\n",
              " 'alien',\n",
              " 'predator',\n",
              " 'predator',\n",
              " 'predator',\n",
              " 'alien',\n",
              " 'predator',\n",
              " 'predator',\n",
              " 'predator',\n",
              " 'predator',\n",
              " 'predator',\n",
              " 'predator',\n",
              " 'predator',\n",
              " 'predator',\n",
              " 'predator',\n",
              " 'alien',\n",
              " 'alien',\n",
              " 'predator',\n",
              " 'alien',\n",
              " 'predator',\n",
              " 'predator',\n",
              " 'predator',\n",
              " 'predator',\n",
              " 'predator',\n",
              " 'predator',\n",
              " 'predator',\n",
              " 'predator',\n",
              " 'predator',\n",
              " 'predator',\n",
              " 'alien',\n",
              " 'predator',\n",
              " 'predator',\n",
              " 'predator',\n",
              " 'alien',\n",
              " 'predator',\n",
              " 'predator',\n",
              " 'alien',\n",
              " 'predator',\n",
              " 'predator',\n",
              " 'predator',\n",
              " 'predator',\n",
              " 'alien',\n",
              " 'predator',\n",
              " 'predator',\n",
              " 'predator',\n",
              " 'predator',\n",
              " 'alien',\n",
              " 'predator',\n",
              " 'predator',\n",
              " 'predator',\n",
              " 'predator',\n",
              " 'alien',\n",
              " 'predator',\n",
              " 'predator',\n",
              " 'predator',\n",
              " 'alien',\n",
              " 'predator',\n",
              " 'predator',\n",
              " 'predator',\n",
              " 'alien',\n",
              " 'alien',\n",
              " 'predator',\n",
              " 'predator',\n",
              " 'predator',\n",
              " 'predator',\n",
              " 'predator',\n",
              " 'predator']"
            ]
          },
          "metadata": {},
          "execution_count": 353
        }
      ]
    },
    {
      "cell_type": "code",
      "source": [
        "L1=[]\n",
        "for i in test_labels:\n",
        "  L1.append(class_names[i])"
      ],
      "metadata": {
        "id": "h4f93cm5Q0Vr"
      },
      "execution_count": 359,
      "outputs": []
    },
    {
      "cell_type": "code",
      "source": [
        "L1"
      ],
      "metadata": {
        "colab": {
          "base_uri": "https://localhost:8080/"
        },
        "id": "1gkNwt7jQ--r",
        "outputId": "2daf8f79-55b1-48e3-9426-c1bc0bda11a9"
      },
      "execution_count": 360,
      "outputs": [
        {
          "output_type": "execute_result",
          "data": {
            "text/plain": [
              "['alien',\n",
              " 'alien',\n",
              " 'alien',\n",
              " 'alien',\n",
              " 'alien',\n",
              " 'alien',\n",
              " 'alien',\n",
              " 'alien',\n",
              " 'alien',\n",
              " 'alien',\n",
              " 'alien',\n",
              " 'alien',\n",
              " 'alien',\n",
              " 'alien',\n",
              " 'alien',\n",
              " 'alien',\n",
              " 'alien',\n",
              " 'alien',\n",
              " 'alien',\n",
              " 'alien',\n",
              " 'alien',\n",
              " 'alien',\n",
              " 'alien',\n",
              " 'alien',\n",
              " 'alien',\n",
              " 'alien',\n",
              " 'alien',\n",
              " 'alien',\n",
              " 'alien',\n",
              " 'alien',\n",
              " 'alien',\n",
              " 'alien',\n",
              " 'alien',\n",
              " 'alien',\n",
              " 'alien',\n",
              " 'alien',\n",
              " 'alien',\n",
              " 'alien',\n",
              " 'alien',\n",
              " 'alien',\n",
              " 'alien',\n",
              " 'alien',\n",
              " 'alien',\n",
              " 'alien',\n",
              " 'alien',\n",
              " 'alien',\n",
              " 'alien',\n",
              " 'alien',\n",
              " 'alien',\n",
              " 'alien',\n",
              " 'alien',\n",
              " 'alien',\n",
              " 'alien',\n",
              " 'alien',\n",
              " 'alien',\n",
              " 'alien',\n",
              " 'alien',\n",
              " 'alien',\n",
              " 'alien',\n",
              " 'alien',\n",
              " 'alien',\n",
              " 'alien',\n",
              " 'alien',\n",
              " 'alien',\n",
              " 'alien',\n",
              " 'alien',\n",
              " 'alien',\n",
              " 'alien',\n",
              " 'alien',\n",
              " 'alien',\n",
              " 'alien',\n",
              " 'alien',\n",
              " 'alien',\n",
              " 'alien',\n",
              " 'alien',\n",
              " 'alien',\n",
              " 'alien',\n",
              " 'alien',\n",
              " 'alien',\n",
              " 'alien',\n",
              " 'alien',\n",
              " 'alien',\n",
              " 'alien',\n",
              " 'alien',\n",
              " 'alien',\n",
              " 'alien',\n",
              " 'alien',\n",
              " 'alien',\n",
              " 'alien',\n",
              " 'alien',\n",
              " 'alien',\n",
              " 'alien',\n",
              " 'alien',\n",
              " 'alien',\n",
              " 'alien',\n",
              " 'alien',\n",
              " 'alien',\n",
              " 'alien',\n",
              " 'alien',\n",
              " 'alien',\n",
              " 'predator',\n",
              " 'predator',\n",
              " 'predator',\n",
              " 'predator',\n",
              " 'predator',\n",
              " 'predator',\n",
              " 'predator',\n",
              " 'predator',\n",
              " 'predator',\n",
              " 'predator',\n",
              " 'predator',\n",
              " 'predator',\n",
              " 'predator',\n",
              " 'predator',\n",
              " 'predator',\n",
              " 'predator',\n",
              " 'predator',\n",
              " 'predator',\n",
              " 'predator',\n",
              " 'predator',\n",
              " 'predator',\n",
              " 'predator',\n",
              " 'predator',\n",
              " 'predator',\n",
              " 'predator',\n",
              " 'predator',\n",
              " 'predator',\n",
              " 'predator',\n",
              " 'predator',\n",
              " 'predator',\n",
              " 'predator',\n",
              " 'predator',\n",
              " 'predator',\n",
              " 'predator',\n",
              " 'predator',\n",
              " 'predator',\n",
              " 'predator',\n",
              " 'predator',\n",
              " 'predator',\n",
              " 'predator',\n",
              " 'predator',\n",
              " 'predator',\n",
              " 'predator',\n",
              " 'predator',\n",
              " 'predator',\n",
              " 'predator',\n",
              " 'predator',\n",
              " 'predator',\n",
              " 'predator',\n",
              " 'predator',\n",
              " 'predator',\n",
              " 'predator',\n",
              " 'predator',\n",
              " 'predator',\n",
              " 'predator',\n",
              " 'predator',\n",
              " 'predator',\n",
              " 'predator',\n",
              " 'predator',\n",
              " 'predator',\n",
              " 'predator',\n",
              " 'predator',\n",
              " 'predator',\n",
              " 'predator',\n",
              " 'predator',\n",
              " 'predator',\n",
              " 'predator',\n",
              " 'predator',\n",
              " 'predator',\n",
              " 'predator',\n",
              " 'predator',\n",
              " 'predator',\n",
              " 'predator',\n",
              " 'predator',\n",
              " 'predator',\n",
              " 'predator',\n",
              " 'predator',\n",
              " 'predator',\n",
              " 'predator',\n",
              " 'predator',\n",
              " 'predator',\n",
              " 'predator',\n",
              " 'predator',\n",
              " 'predator',\n",
              " 'predator',\n",
              " 'predator',\n",
              " 'predator',\n",
              " 'predator',\n",
              " 'predator',\n",
              " 'predator',\n",
              " 'predator',\n",
              " 'predator',\n",
              " 'predator',\n",
              " 'predator',\n",
              " 'predator',\n",
              " 'predator',\n",
              " 'predator',\n",
              " 'predator',\n",
              " 'predator',\n",
              " 'predator']"
            ]
          },
          "metadata": {},
          "execution_count": 360
        }
      ]
    },
    {
      "cell_type": "code",
      "source": [
        "count=0\n",
        "for i in range(len(L)):\n",
        "  if L[i]!=L1[i]:\n",
        "    print(L[i],L1[i])\n",
        "    count+=1\n",
        "print(count)\n"
      ],
      "metadata": {
        "colab": {
          "base_uri": "https://localhost:8080/"
        },
        "id": "MQRASJunRafz",
        "outputId": "5ad9274a-1964-496d-8fb9-dcf555966420"
      },
      "execution_count": 365,
      "outputs": [
        {
          "output_type": "stream",
          "name": "stdout",
          "text": [
            "predator alien\n",
            "predator alien\n",
            "predator alien\n",
            "predator alien\n",
            "predator alien\n",
            "predator alien\n",
            "predator alien\n",
            "predator alien\n",
            "predator alien\n",
            "predator alien\n",
            "predator alien\n",
            "predator alien\n",
            "predator alien\n",
            "predator alien\n",
            "predator alien\n",
            "predator alien\n",
            "predator alien\n",
            "predator alien\n",
            "predator alien\n",
            "predator alien\n",
            "predator alien\n",
            "alien predator\n",
            "alien predator\n",
            "alien predator\n",
            "alien predator\n",
            "alien predator\n",
            "alien predator\n",
            "alien predator\n",
            "alien predator\n",
            "alien predator\n",
            "alien predator\n",
            "alien predator\n",
            "alien predator\n",
            "alien predator\n",
            "alien predator\n",
            "alien predator\n",
            "alien predator\n",
            "alien predator\n",
            "alien predator\n",
            "alien predator\n",
            "40\n"
          ]
        }
      ]
    },
    {
      "cell_type": "code",
      "source": [
        "len(test_labels)"
      ],
      "metadata": {
        "colab": {
          "base_uri": "https://localhost:8080/"
        },
        "id": "fhtB5zMCRq_A",
        "outputId": "022c03fa-c5ca-4df3-ef5e-38002699fd7b"
      },
      "execution_count": 366,
      "outputs": [
        {
          "output_type": "execute_result",
          "data": {
            "text/plain": [
              "200"
            ]
          },
          "metadata": {},
          "execution_count": 366
        }
      ]
    },
    {
      "cell_type": "code",
      "source": [],
      "metadata": {
        "id": "xqONYLJzSL_A"
      },
      "execution_count": null,
      "outputs": []
    }
  ]
}